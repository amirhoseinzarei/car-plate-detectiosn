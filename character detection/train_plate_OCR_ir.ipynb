{
  "cells": [
    {
      "cell_type": "code",
      "execution_count": 1,
      "metadata": {
        "id": "pBDUdYmfXjJd"
      },
      "outputs": [],
      "source": [
        "import os\n",
        "import tensorflow as tf\n",
        "import keras\n",
        "import numpy as np\n",
        "import cv2 as cv\n",
        "import random\n",
        "import matplotlib.pyplot as plt"
      ]
    },
    {
      "cell_type": "code",
      "execution_count": 2,
      "metadata": {
        "id": "jxpZw3bok3Ux"
      },
      "outputs": [],
      "source": [
        "train_path = \"C:/Users/Pardis/Downloads/split_images_local/train\"\n",
        "valid_path = \"C:/Users/Pardis/Downloads/split_images_local/val\"\n",
        "test_path = \"C:/Users/Pardis/Downloads/split_images_local/test\""
      ]
    },
    {
      "cell_type": "code",
      "execution_count": 3,
      "metadata": {
        "id": "mK881Ni5lG2f"
      },
      "outputs": [],
      "source": [
        "class_names = subdirs =['1','2', '3', '4','5','6','7','8','9','A','B','C','D','E','G','H','J','L','M','N','S','T','V','Y']\n",
        "num_classes = len(class_names)"
      ]
    },
    {
      "cell_type": "code",
      "execution_count": 4,
      "metadata": {
        "colab": {
          "base_uri": "https://localhost:8080/"
        },
        "id": "7a98ohwtldP_",
        "outputId": "c743a4b7-2690-485b-aa4e-f3a70b363503"
      },
      "outputs": [
        {
          "name": "stdout",
          "output_type": "stream",
          "text": [
            "[0, 1, 2, 3, 4, 5, 6, 7, 8, 9, 10, 11, 12, 13, 14, 15, 16, 17, 18, 19, 20, 21, 22, 23]\n"
          ]
        }
      ],
      "source": [
        "labels_nums = [i for i in range(0,len(class_names))]\n",
        "print(labels_nums)"
      ]
    },
    {
      "cell_type": "code",
      "execution_count": 6,
      "metadata": {
        "id": "83uEUjWSk3Xv"
      },
      "outputs": [],
      "source": [
        "train_imgs = []\n",
        "train_labels = []\n",
        "for indx, subdir in enumerate(subdirs):\n",
        "  imgfolder = os.path.join(train_path, subdir)\n",
        "  for imgname in os.listdir(imgfolder):\n",
        "    img = cv.imread(os.path.join(imgfolder, imgname), 0)\n",
        "    img = cv.normalize(img, None, 0, 1.0,\n",
        "    cv.NORM_MINMAX, dtype=cv.CV_32F)\n",
        "    img=cv.resize(img,(28,28))\n",
        "    train_imgs.append(img)\n",
        "    train_labels.append(labels_nums[indx])\n",
        "\n",
        "c = list(zip(train_imgs, train_labels))\n",
        "random.shuffle(c)\n",
        "train_imgs, train_labels = zip(*c)\n",
        "\n",
        "train_images = np.array(train_imgs)\n",
        "train_labels = np.array(train_labels)"
      ]
    },
    {
      "cell_type": "code",
      "execution_count": 7,
      "metadata": {
        "id": "siVE8t-NncUb"
      },
      "outputs": [],
      "source": [
        "valid_imgs = []\n",
        "valid_labels = []\n",
        "for indx, subdir in enumerate(subdirs):\n",
        "  imgfolder = os.path.join(valid_path, subdir)\n",
        "  if os.path.exists(imgfolder):\n",
        "    for imgname in os.listdir(imgfolder):\n",
        "      img = cv.imread(os.path.join(imgfolder, imgname), 0)\n",
        "      img = cv.normalize(img, None, 0, 1.0,\n",
        "      cv.NORM_MINMAX, dtype=cv.CV_32F)\n",
        "      img=cv.resize(img,(28,28))\n",
        "      valid_imgs.append(img)\n",
        "      valid_labels.append(labels_nums[indx])\n",
        "\n",
        "c = list(zip(valid_imgs, valid_labels))\n",
        "random.shuffle(c)\n",
        "valid_imgs, valid_labels = zip(*c)\n",
        "\n",
        "valid_imgs = np.array(valid_imgs)\n",
        "valid_labels = np.array(valid_labels)"
      ]
    },
    {
      "cell_type": "code",
      "execution_count": 8,
      "metadata": {},
      "outputs": [],
      "source": [
        "test_imgs = []\n",
        "test_labels = []\n",
        "for indx, subdir in enumerate(subdirs):\n",
        "  imgfolder = os.path.join(test_path, subdir)\n",
        "  if os.path.exists(imgfolder):\n",
        "    for imgname in os.listdir(imgfolder):\n",
        "      img = cv.imread(os.path.join(imgfolder, imgname), 0)\n",
        "      img = cv.normalize(img, None, 0, 1.0,\n",
        "      cv.NORM_MINMAX, dtype=cv.CV_32F)\n",
        "      img=cv.resize(img,(28,28))\n",
        "      test_imgs.append(img)\n",
        "      test_labels.append(labels_nums[indx])\n",
        "\n",
        "c = list(zip(test_imgs, test_labels))\n",
        "random.shuffle(c)\n",
        "test_imgs, test_labels = zip(*c)\n",
        "\n",
        "test_imgs = np.array(test_imgs)\n",
        "test_labels = np.array(test_labels)"
      ]
    },
    {
      "cell_type": "code",
      "execution_count": 9,
      "metadata": {
        "colab": {
          "base_uri": "https://localhost:8080/",
          "height": 317
        },
        "id": "_bHSWkmIvQel",
        "outputId": "0d60b658-b955-452b-e8e9-94624c04232b"
      },
      "outputs": [
        {
          "name": "stdout",
          "output_type": "stream",
          "text": [
            "8\n",
            "7\n",
            "1.0 0.0\n"
          ]
        },
        {
          "data": {
            "image/png": "[encoded data removed]",
            "text/plain": [
              "<Figure size 432x288 with 1 Axes>"
            ]
          },
          "metadata": {
            "needs_background": "light"
          },
          "output_type": "display_data"
        }
      ],
      "source": [
        "num=80\n",
        "print(class_names[train_labels[num]])\n",
        "print(train_labels[num])\n",
        "print(np.max(train_images[num]),np.min(train_images[num]))\n",
        "plt.imshow(train_images[num],cmap=\"gray\")\n",
        "plt.show()"
      ]
    },
    {
      "cell_type": "code",
      "execution_count": 10,
      "metadata": {
        "colab": {
          "base_uri": "https://localhost:8080/"
        },
        "id": "0gyRuX2pmPA9",
        "outputId": "7db8dbfa-46fe-463e-83dc-ad6adfc61a46"
      },
      "outputs": [
        {
          "data": {
            "text/plain": [
              "(2033,)"
            ]
          },
          "execution_count": 10,
          "metadata": {},
          "output_type": "execute_result"
        }
      ],
      "source": [
        "test_labels.shape"
      ]
    },
    {
      "cell_type": "code",
      "execution_count": 11,
      "metadata": {},
      "outputs": [
        {
          "data": {
            "text/plain": [
              "(2033, 28, 28)"
            ]
          },
          "execution_count": 11,
          "metadata": {},
          "output_type": "execute_result"
        }
      ],
      "source": [
        "test_imgs.shape"
      ]
    },
    {
      "cell_type": "code",
      "execution_count": 2,
      "metadata": {
        "id": "_pJZoNMtoX9h"
      },
      "outputs": [
        {
          "name": "stdout",
          "output_type": "stream",
          "text": [
            "Model: \"sequential_1\"\n",
            "_________________________________________________________________\n",
            " Layer (type)                Output Shape              Param #   \n",
            "=================================================================\n",
            " conv2d_2 (Conv2D)           (None, 28, 28, 32)        832       \n",
            "                                                                 \n",
            " max_pooling2d_2 (MaxPooling  (None, 14, 14, 32)       0         \n",
            " 2D)                                                             \n",
            "                                                                 \n",
            " conv2d_3 (Conv2D)           (None, 10, 10, 48)        38448     \n",
            "                                                                 \n",
            " max_pooling2d_3 (MaxPooling  (None, 5, 5, 48)         0         \n",
            " 2D)                                                             \n",
            "                                                                 \n",
            " flatten_1 (Flatten)         (None, 1200)              0         \n",
            "                                                                 \n",
            " dense_3 (Dense)             (None, 256)               307456    \n",
            "                                                                 \n",
            " dense_4 (Dense)             (None, 84)                21588     \n",
            "                                                                 \n",
            " dense_5 (Dense)             (None, 24)                2040      \n",
            "                                                                 \n",
            "=================================================================\n",
            "Total params: 370,364\n",
            "Trainable params: 370,364\n",
            "Non-trainable params: 0\n",
            "_________________________________________________________________\n"
          ]
        }
      ],
      "source": [
        "from keras.models import Sequential\n",
        "from keras import layers\n",
        "model = Sequential()\n",
        "\n",
        "model.add(layers.Conv2D(filters=32, kernel_size=(5,5), padding='same', activation='relu', input_shape=(28,28, 1)))\n",
        "model.add(layers.MaxPool2D(strides=2))\n",
        "model.add(layers.Conv2D(filters=48, kernel_size=(5,5), padding='valid', activation='relu'))\n",
        "model.add(layers.MaxPool2D(strides=2))\n",
        "model.add(layers.Flatten())\n",
        "model.add(layers.Dense(256, activation='relu'))\n",
        "model.add(layers.Dense(84, activation='relu'))\n",
        "model.add(layers.Dense(24, activation='softmax'))\n",
        "model.summary()"
      ]
    },
    {
      "cell_type": "code",
      "execution_count": 13,
      "metadata": {
        "id": "iIRIf8q8oYAB"
      },
      "outputs": [],
      "source": [
        "model.compile(optimizer='adam',\n",
        "              loss='sparse_categorical_crossentropy',\n",
        "              metrics=['accuracy'])"
      ]
    },
    {
      "cell_type": "code",
      "execution_count": 14,
      "metadata": {
        "id": "BCrJBnmCoumW"
      },
      "outputs": [
        {
          "name": "stdout",
          "output_type": "stream",
          "text": [
            "Epoch 1/20\n",
            "502/502 [==============================] - 12s 11ms/step - loss: 0.1829 - accuracy: 0.9485 - val_loss: 0.0201 - val_accuracy: 0.9965\n",
            "Epoch 2/20\n",
            "502/502 [==============================] - 6s 11ms/step - loss: 0.0110 - accuracy: 0.9965 - val_loss: 0.0064 - val_accuracy: 0.9985\n",
            "Epoch 3/20\n",
            "502/502 [==============================] - 4s 9ms/step - loss: 0.0060 - accuracy: 0.9979 - val_loss: 0.0062 - val_accuracy: 0.9980\n",
            "Epoch 4/20\n",
            "502/502 [==============================] - 4s 8ms/step - loss: 0.0037 - accuracy: 0.9991 - val_loss: 0.0010 - val_accuracy: 0.9995\n",
            "Epoch 5/20\n",
            "502/502 [==============================] - 4s 9ms/step - loss: 0.0079 - accuracy: 0.9976 - val_loss: 0.0059 - val_accuracy: 0.9980\n",
            "Epoch 6/20\n",
            "502/502 [==============================] - 5s 9ms/step - loss: 0.0061 - accuracy: 0.9983 - val_loss: 0.0030 - val_accuracy: 0.9995\n",
            "Epoch 7/20\n",
            "502/502 [==============================] - 6s 11ms/step - loss: 0.0026 - accuracy: 0.9994 - val_loss: 0.0039 - val_accuracy: 0.9990\n",
            "Epoch 8/20\n",
            "502/502 [==============================] - 5s 10ms/step - loss: 3.2353e-04 - accuracy: 0.9999 - val_loss: 0.0035 - val_accuracy: 0.9990\n",
            "Epoch 9/20\n",
            "502/502 [==============================] - 5s 9ms/step - loss: 3.7786e-04 - accuracy: 0.9999 - val_loss: 0.0030 - val_accuracy: 0.9990\n",
            "Epoch 10/20\n",
            "502/502 [==============================] - 5s 10ms/step - loss: 0.0064 - accuracy: 0.9985 - val_loss: 0.0024 - val_accuracy: 0.9990\n",
            "Epoch 11/20\n",
            "502/502 [==============================] - 6s 11ms/step - loss: 0.0072 - accuracy: 0.9983 - val_loss: 0.0105 - val_accuracy: 0.9985\n",
            "Epoch 12/20\n",
            "502/502 [==============================] - 5s 10ms/step - loss: 0.0022 - accuracy: 0.9994 - val_loss: 6.4526e-04 - val_accuracy: 1.0000\n",
            "Epoch 13/20\n",
            "502/502 [==============================] - 5s 10ms/step - loss: 7.1216e-05 - accuracy: 1.0000 - val_loss: 7.7910e-05 - val_accuracy: 1.0000\n",
            "Epoch 14/20\n",
            "502/502 [==============================] - 5s 10ms/step - loss: 4.3833e-06 - accuracy: 1.0000 - val_loss: 7.4301e-05 - val_accuracy: 1.0000\n",
            "Epoch 15/20\n",
            "502/502 [==============================] - 5s 10ms/step - loss: 2.7711e-06 - accuracy: 1.0000 - val_loss: 7.0690e-05 - val_accuracy: 1.0000\n",
            "Epoch 16/20\n",
            "502/502 [==============================] - 5s 10ms/step - loss: 1.9329e-06 - accuracy: 1.0000 - val_loss: 8.4096e-05 - val_accuracy: 1.0000\n",
            "Epoch 17/20\n",
            "502/502 [==============================] - 5s 10ms/step - loss: 1.3837e-06 - accuracy: 1.0000 - val_loss: 8.7848e-05 - val_accuracy: 1.0000\n",
            "Epoch 18/20\n",
            "502/502 [==============================] - 5s 10ms/step - loss: 1.0479e-06 - accuracy: 1.0000 - val_loss: 8.2817e-05 - val_accuracy: 1.0000\n",
            "Epoch 19/20\n",
            "502/502 [==============================] - 5s 10ms/step - loss: 7.9256e-07 - accuracy: 1.0000 - val_loss: 9.3029e-05 - val_accuracy: 1.0000\n",
            "Epoch 20/20\n",
            "502/502 [==============================] - 5s 10ms/step - loss: 5.7802e-07 - accuracy: 1.0000 - val_loss: 7.6591e-05 - val_accuracy: 1.0000\n"
          ]
        }
      ],
      "source": [
        "history= model.fit(train_images, train_labels,validation_data=(valid_imgs,valid_labels), epochs=20)\n"
      ]
    },
    {
      "cell_type": "code",
      "execution_count": 15,
      "metadata": {},
      "outputs": [
        {
          "data": {
            "image/png": "[encoded data removed]",
            "text/plain": [
              "<Figure size 432x288 with 1 Axes>"
            ]
          },
          "metadata": {
            "needs_background": "light"
          },
          "output_type": "display_data"
        },
        {
          "data": {
            "image/png": "[encoded data removed]",
            "text/plain": [
              "<Figure size 432x288 with 1 Axes>"
            ]
          },
          "metadata": {
            "needs_background": "light"
          },
          "output_type": "display_data"
        }
      ],
      "source": [
        "loss = history.history['loss']\n",
        "val_loss = history.history['val_loss']\n",
        "epochs = range(1, len(loss) + 1)\n",
        "plt.plot(epochs, loss, 'y', label='Training loss')\n",
        "plt.plot(epochs, val_loss, 'r', label='Validation loss')\n",
        "plt.title('Training and validation loss')\n",
        "plt.xlabel('Epochs')\n",
        "plt.ylabel('Loss')\n",
        "plt.legend()\n",
        "plt.show()\n",
        "\n",
        "acc = history.history['accuracy']\n",
        "#acc = history.history['accuracy']\n",
        "#val_acc = history.history['val_acc']\n",
        "val_acc = history.history['val_accuracy']\n",
        "\n",
        "plt.plot(epochs, acc, 'y', label='Training acc')\n",
        "plt.plot(epochs, val_acc, 'r', label='Validation acc')\n",
        "plt.title('Training and validation accuracy')\n",
        "plt.xlabel('Epochs')\n",
        "plt.ylabel('Accuracy')\n",
        "plt.legend()\n",
        "plt.show()"
      ]
    },
    {
      "cell_type": "code",
      "execution_count": 18,
      "metadata": {
        "id": "0zqoLC2FrSfm"
      },
      "outputs": [],
      "source": [
        "model.save('saved_model/last_simple_ocr_plates_model.hdf5')"
      ]
    }
  ],
  "metadata": {
    "accelerator": "GPU",
    "colab": {
      "name": "train_plate_OCR_ir.ipynb",
      "provenance": []
    },
    "gpuClass": "standard",
    "kernelspec": {
      "display_name": "Python 3.9.7 ('base')",
      "language": "python",
      "name": "python3"
    },
    "language_info": {
      "codemirror_mode": {
        "name": "ipython",
        "version": 3
      },
      "file_extension": ".py",
      "mimetype": "text/x-python",
      "name": "python",
      "nbconvert_exporter": "python",
      "pygments_lexer": "ipython3",
      "version": "3.9.7"
    },
    "vscode": {
      "interpreter": {
        "hash": "6b232ef68f376693bdcf87328848ac700fa35fc2ea05767b7229c565d8395edc"
      }
    }
  },
  "nbformat": 4,
  "nbformat_minor": 0
}
